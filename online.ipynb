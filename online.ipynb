{
 "cells": [
  {
   "cell_type": "code",
   "execution_count": 1,
   "metadata": {},
   "outputs": [],
   "source": [
    "# Import libraries\n",
    "import pandas as pd\n",
    "import numpy as np\n",
    "from sklearn.ensemble import RandomForestRegressor\n",
    "from scipy import stats\n",
    "from sklearn.metrics import r2_score"
   ]
  },
  {
   "cell_type": "code",
   "execution_count": 2,
   "metadata": {},
   "outputs": [],
   "source": [
    "# Configuration parameters\n",
    "cacheTrainSize = 64\n",
    "cacheTestSize = 1\n",
    "startTraining = 0\n",
    "dir = \"/mnt/traces-jnsm-2017-master/VoD-SingleApp-PeriodicLoad/\"\n",
    "#fieldInYFile= \"noAudioPlayed\"\n",
    "fieldInYFile = \"DispFrames\"\n",
    "fields = [fieldInYFile]"
   ]
  },
  {
   "cell_type": "code",
   "execution_count": 4,
   "metadata": {},
   "outputs": [
    {
     "output_type": "stream",
     "name": "stdout",
     "text": "X Read Ok!\nY Read Ok!\n37036\n"
    }
   ],
   "source": [
    "# Read both datasets\n",
    "cacheXRaw = pd.read_csv(dir + \"X_path.csv\")\n",
    "print(\"X Read Ok!\")\n",
    "cacheYRaw = pd.read_csv(dir + \"Y_clean.csv\", usecols=fields)\n",
    "print(\"Y Read Ok!\")\n",
    "\n",
    "print(len(cacheXRaw.index))"
   ]
  },
  {
   "cell_type": "code",
   "execution_count": 6,
   "metadata": {},
   "outputs": [
    {
     "output_type": "stream",
     "name": "stdout",
     "text": "(X,Y) Training Datasets Ok!\n    DispFrames\n0           23\n1           24\n2           24\n3           24\n4           24\n5           23\n6           24\n7           24\n8           24\n9           24\n10          24\n11          24\n12          24\n13          24\n14          24\n15          24\n16          24\n17          24\n18          24\n19          24\n20          24\n21          24\n22          24\n23          24\n24          24\n25          24\n26          24\n27          24\n28          24\n29          24\n..         ...\n34          24\n35          24\n36          24\n37          24\n38          24\n39          24\n40          24\n41          24\n42          23\n43          24\n44          24\n45          24\n46          24\n47          24\n48          24\n49          24\n50          24\n51          24\n52          24\n53          24\n54          24\n55          24\n56          24\n57          24\n58          24\n59          24\n60          24\n61          24\n62          24\n63          24\n\n[64 rows x 1 columns]\n"
    }
   ],
   "source": [
    "# Defining X,Y training datasets\n",
    "cacheXTrain = cacheXRaw.iloc[startTraining:cacheTrainSize, 1:]\n",
    "cacheYTrain = cacheYRaw.iloc[startTraining:cacheTrainSize, 0:2]\n",
    "print(\"(X,Y) Training Datasets Ok!\")\n",
    "print(cacheYTrain)"
   ]
  },
  {
   "cell_type": "code",
   "execution_count": null,
   "metadata": {},
   "outputs": [],
   "source": [
    "# Defining X,Y testing datasets\n",
    "cacheXTest = cacheXRaw.iloc[(startTraining+cacheTrainSize):(startTraining+cacheTrainSize+cacheTestSize), 1:]\n",
    "cacheYTest = cacheYRaw.iloc[(startTraining+cacheTrainSize):(startTraining+cacheTrainSize+cacheTestSize), 0:2]\n",
    "print(\"(X,Y) Testing Datasets Ok!\")\n",
    "\n",
    "#cacheXTestSize = len(cacheXTest)\n",
    "#cacheYTestSize = len(cacheYTest)\n",
    "print(\"Size of the training dataset: \" + str(cacheXTestSize))"
   ]
  },
  {
   "cell_type": "code",
   "execution_count": null,
   "metadata": {},
   "outputs": [],
   "source": [
    "# Regressor + Fit + Predict\n",
    "regr = RandomForestRegressor(max_depth=50, n_estimators=150, n_jobs=4)\n",
    "regr.fit(cacheXTrain, cacheYTrain)\n",
    "print (\"Build Model Ok!\")"
   ]
  },
  {
   "cell_type": "code",
   "execution_count": null,
   "metadata": {},
   "outputs": [],
   "source": [
    "cacheYTestPredicted  = regr.predict(cacheXTest)\n",
    "cacheYTrainPredicted = regr.predict(cacheXTrain)\n",
    "print (\"Predictions Ok!\")"
   ]
  },
  {
   "cell_type": "code",
   "execution_count": null,
   "metadata": {},
   "outputs": [],
   "source": [
    "nmaeTestRF  = (abs(cacheYTestPredicted - cacheYTest.values).mean())/cacheYTest.values.mean()\n",
    "print(\"NMAE (Testing) = \" + str(nmaeTestRF))\n",
    "\n",
    "nmaeTrainRF = (abs(cacheYTrainPredicted - cacheYTrain.values).mean())/cacheYTrain.values.mean()\n",
    "print(\"NMAE (Training) = \" + str(nmaeTrainRF))\n",
    "\n",
    "r2TestRF = r2_score(cacheYTest.values, cacheYTestPredicted)\n",
    "#r2TestRF = r2_score(cacheYTest, cacheYTestPredicted, multioutput='variance_weighted')\n",
    "print(\"R2 Score (Testing) = \" + str(r2TestRF))\n",
    "\n",
    "r2TrainRF = r2_score(cacheYTrain.values, cacheYTrainPredicted)\n",
    "#r2TestRF = r2_score(cacheYTrain, cacheYTrainPredicted, multioutput='variance_weighted')\n",
    "print(\"R2 Score (Training) = \" + str(r2TrainRF))"
   ]
  },
  {
   "cell_type": "code",
   "execution_count": 5,
   "metadata": {},
   "outputs": [
    {
     "output_type": "stream",
     "name": "stdout",
     "text": "1\n2\n3\n4\n5\n6\n7\n8\n9\n"
    }
   ],
   "source": [
    "for i in range(1,10):\n",
    "    print(i)"
   ]
  },
  {
   "cell_type": "code",
   "execution_count": null,
   "metadata": {},
   "outputs": [],
   "source": []
  }
 ],
 "metadata": {
  "language_info": {
   "codemirror_mode": {
    "name": "ipython",
    "version": 3
   },
   "file_extension": ".py",
   "mimetype": "text/x-python",
   "name": "python",
   "nbconvert_exporter": "python",
   "pygments_lexer": "ipython3",
   "version": "3.5.2-final"
  },
  "orig_nbformat": 2,
  "kernelspec": {
   "name": "python35264bitb88e0159b78c47c788414a2eade6cf64",
   "display_name": "Python 3.5.2 64-bit"
  }
 },
 "nbformat": 4,
 "nbformat_minor": 2
}